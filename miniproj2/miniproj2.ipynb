{
  "nbformat": 4,
  "nbformat_minor": 0,
  "metadata": {
    "colab": {
      "provenance": []
    },
    "kernelspec": {
      "name": "python3",
      "display_name": "Python 3"
    },
    "language_info": {
      "name": "python"
    }
  },
  "cells": [
    {
      "cell_type": "markdown",
      "source": [
        "**NOTE: Distributing or uploading this course material to a public repository (e.g., GitHub) is strictly prohibited.**"
      ],
      "metadata": {
        "id": "TLf3PCpOvhus"
      }
    },
    {
      "cell_type": "markdown",
      "source": [
        "## **Database Creation**\n",
        "\n",
        "We want to implement an OpenCourseWare service using SQLite3. Continuing from the first mini-project, we will add one attribute `\"added\"` in the `\"kmooc_learningpath_courses\"` table, which indicates the date when a course was added to a learning path.\n",
        "\n",
        "The given 'create_database_proj2.sql' file contains the definition of the schema and a sample set of the tuples. You can download it from [here](https://drive.google.com/file/d/1GAXDhCxG2RS9tQtRIq7a4i2_fxBs3FIC/view?usp=sharing).\n",
        "\n",
        "Please see the file for detailed schema. Note that you need to use 'create_database_proj**2**.sql', not 'create_database_proj**1**.sql'.\n",
        "\n",
        "We will implement several core modules of the service."
      ],
      "metadata": {
        "id": "o_zJTcIMOWh5"
      }
    },
    {
      "cell_type": "code",
      "source": [
        "from google.colab import drive\n",
        "drive.mount('/content/drive')"
      ],
      "metadata": {
        "colab": {
          "base_uri": "https://localhost:8080/"
        },
        "id": "OpcaGkkQO-EA",
        "outputId": "bbc3add0-c1fb-4eca-b31e-2dc025055a1f"
      },
      "execution_count": null,
      "outputs": [
        {
          "output_type": "stream",
          "name": "stdout",
          "text": [
            "Mounted at /content/drive\n"
          ]
        }
      ]
    },
    {
      "cell_type": "code",
      "source": [
        "import sqlite3\n",
        "\n",
        "conn = sqlite3.connect('kmooc.sqlite3')\n",
        "cur = conn.cursor()\n",
        "\n",
        "# Enter your solution here\n",
        "# Execute the SQL statements in 'create_database_proj2.sql'.\n",
        "# If you placed this file in the 'MyDrive' folder, its path is '/content/drive/MyDrive/create_database_proj2.sql'.\n",
        "\n",
        "f = open(\"/content/drive/MyDrive/create_database_proj2.sql\", 'r')\n",
        "sql_file = f.read()\n",
        "f.close()\n",
        "sql_command = sql_file.split(';')\n",
        "for command in sql_command:\n",
        "  cur.execute(command)\n",
        "\n",
        "conn.commit()\n",
        "conn.close()"
      ],
      "metadata": {
        "id": "tMBPg0yaAhPm"
      },
      "execution_count": null,
      "outputs": []
    },
    {
      "cell_type": "markdown",
      "source": [
        "## **Module 1**\n",
        "\n",
        "We need to extract the information about the courses belonging to the learning paths, which were added from 2021-02-01 to 2021-03-31 (YYYY-MM-DD).\n",
        "\n",
        "The output table should contain the following columns:\n",
        "- *added* column from the `\"kmooc_learningpath_courses\"` table\n",
        "- *title* column from the `\"kmooc_course\"` table\n",
        "\n",
        "Sort the output table in the ascending order of the *added* column.\n",
        "\n",
        "**Format**:\n",
        ">```\n",
        "('2021-03-08', '210+ Exercises - Python - Embedded Modules - A to Z')\n",
        "...\n",
        "```\n",
        "\n",
        "Print the result using the code cell below."
      ],
      "metadata": {
        "id": "UboZNCSbIJn9"
      }
    },
    {
      "cell_type": "code",
      "source": [
        "import sqlite3\n",
        "\n",
        "conn = sqlite3.connect('kmooc.sqlite3')\n",
        "cur = conn.cursor()\n",
        "\n",
        "# Enter your solution here\n",
        "cur.execute(\"\"\"\n",
        "SELECT lpc.added, c.title\n",
        "FROM kmooc_learningpath_courses AS lpc\n",
        "JOIN kmooc_course AS c\n",
        "ON lpc.course_id = c.id\n",
        "WHERE date(added) BETWEEN date(\"2021-02-01\") AND date(\"2021-03-31\")\n",
        "ORDER BY lpc.added ASC;\n",
        "\"\"\")\n",
        "for row in cur.fetchall():\n",
        "  print(row)\n",
        "\n",
        "conn.commit()\n",
        "conn.close()"
      ],
      "metadata": {
        "id": "WUuWRZwxJBEl",
        "colab": {
          "base_uri": "https://localhost:8080/"
        },
        "outputId": "9a6bbdb5-bee7-4770-ebc4-d108a6a23048"
      },
      "execution_count": null,
      "outputs": [
        {
          "output_type": "stream",
          "name": "stdout",
          "text": [
            "('2021-02-03', 'C programming - from A to Z')\n",
            "('2021-02-05', '200+ Exercises - Programming in Python - from A to Z')\n",
            "('2021-02-17', '150+ Exercises - Programming in C language - from A to Z')\n",
            "('2021-03-08', '210+ Exercises - Python - Embedded Modules - A to Z')\n",
            "('2021-03-15', 'Programming in C++ - from A to Z')\n",
            "('2021-03-22', '150+ Exercises - Programming in C++ - from A to Z')\n",
            "('2021-03-30', 'Object-oriented programming in Python - OOP - from A to Z')\n"
          ]
        }
      ]
    },
    {
      "cell_type": "markdown",
      "source": [
        "## **Module 2**\n",
        "\n",
        "From the *added* column of the `\"kmooc_learningpath_courses\"` table, extract the month number and show it as the `\"month\"` column. Also, extract the symbol representing the quarter (`'Q1'`, `'Q2'`, `'Q3'`, `'Q4'`) and show it as the `\"quarter\"` column.\n",
        "\n",
        "The output table should contain the following columns:\n",
        "- *added* column from the table `\"kmooc_learningpath_courses\"`\n",
        "- *month* column with the month number\n",
        "- *quarter* column with the symbol of the quarter\n",
        "\n",
        "Use the SELECT CASE statement in your solution. Sort the output table in the ascending order of the *added* column.\n",
        "\n",
        "**Format**:\n",
        ">```\n",
        "('2021-02-05', 2, 'Q1')\n",
        "('2021-05-13', 5, 'Q2')\n",
        "...\n",
        "```\n",
        "\n",
        "Print the result using the code cell below."
      ],
      "metadata": {
        "id": "Fc-TocDrJFPU"
      }
    },
    {
      "cell_type": "code",
      "source": [
        "import sqlite3\n",
        "\n",
        "conn = sqlite3.connect('kmooc.sqlite3')\n",
        "cur = conn.cursor()\n",
        "\n",
        "# Enter your solution here\n",
        "cur.execute(\"\"\"\n",
        "  SELECT added,\n",
        "    CAST(substr(added, 6, 2) AS INT) \"month\",\n",
        "    CASE\n",
        "      WHEN CAST(substr(added, 6, 2) AS INT) IN (1, 2, 3) THEN \"Q1\"\n",
        "      WHEN CAST(substr(added, 6, 2) AS INT) IN (4, 5, 6) THEN \"Q2\"\n",
        "      WHEN CAST(substr(added, 6, 2) AS INT) IN (7, 8, 9) THEN \"Q3\"\n",
        "      WHEN CAST(substr(added, 6, 2) AS INT) IN (10, 11, 12) THEN \"Q4\"\n",
        "      ELSE \"FAIL\"\n",
        "    END \"quarter\"\n",
        "  FROM kmooc_learningpath_courses\n",
        "  ORDER BY added ASC;\n",
        "\"\"\")\n",
        "for row in cur.fetchall():\n",
        "  print(row)\n",
        "\n",
        "conn.commit()\n",
        "conn.close()"
      ],
      "metadata": {
        "id": "lqGtl0QgJtAk",
        "colab": {
          "base_uri": "https://localhost:8080/"
        },
        "outputId": "605d9751-6c65-4793-97d2-ec64005c052b"
      },
      "execution_count": null,
      "outputs": [
        {
          "output_type": "stream",
          "name": "stdout",
          "text": [
            "('2021-01-05', 1, 'Q1')\n",
            "('2021-01-26', 1, 'Q1')\n",
            "('2021-02-03', 2, 'Q1')\n",
            "('2021-02-05', 2, 'Q1')\n",
            "('2021-02-17', 2, 'Q1')\n",
            "('2021-03-08', 3, 'Q1')\n",
            "('2021-03-15', 3, 'Q1')\n",
            "('2021-03-22', 3, 'Q1')\n",
            "('2021-03-30', 3, 'Q1')\n",
            "('2021-04-13', 4, 'Q2')\n",
            "('2021-05-11', 5, 'Q2')\n",
            "('2021-05-12', 5, 'Q2')\n"
          ]
        }
      ]
    },
    {
      "cell_type": "markdown",
      "source": [
        "## **Module 3**\n",
        "\n",
        "From the *added* column of the `\"kmooc_learningpath_courses\"` table, extract the symbol representing the quarter (`'Q1'`, `'Q2'`, `'Q3'`, `'Q4'`) and show it as the column `\"quarter\"`. Then, group the data in the table by `\"quarter\"`, count the number of all courses added in each quarter, and show it as the `\"num_courses\"` column.\n",
        "\n",
        "The output table should contain the following columns:\n",
        "- *quarter* column with the symbol of the quarter\n",
        "- *num_courses* column with the number of courses added in a given quarter\n",
        "\n",
        "Use the SELECT CASE statement in your solution. Sort the output table in the ascending order of the *quarter* column.\n",
        "\n",
        "**Format**:\n",
        ">```\n",
        "('Q1', 8)\n",
        "('Q2', 12)\n",
        "...\n",
        "```\n",
        "\n",
        "Print the result using the code cell below."
      ],
      "metadata": {
        "id": "x8KIoiwjJM_f"
      }
    },
    {
      "cell_type": "code",
      "source": [
        "import sqlite3\n",
        "\n",
        "conn = sqlite3.connect('kmooc.sqlite3')\n",
        "cur = conn.cursor()\n",
        "\n",
        "# Enter your solution here\n",
        "cur.execute(\"\"\"\n",
        "  SELECT\n",
        "    CASE\n",
        "      WHEN CAST(substr(added, 6, 2) AS INT) IN (1, 2, 3) THEN \"Q1\"\n",
        "      WHEN CAST(substr(added, 6, 2) AS INT) IN (4, 5, 6) THEN \"Q2\"\n",
        "      WHEN CAST(substr(added, 6, 2) AS INT) IN (7, 8, 9) THEN \"Q3\"\n",
        "      WHEN CAST(substr(added, 6, 2) AS INT) IN (10, 11, 12) THEN \"Q4\"\n",
        "      ELSE \"FAIL\"\n",
        "    END \"quarter\",\n",
        "    count(\"quarter\") \"num_courses\"\n",
        "  FROM kmooc_learningpath_courses\n",
        "  GROUP BY \"quarter\"\n",
        "  ORDER BY \"quarter\" ASC;\n",
        "\"\"\")\n",
        "for row in cur.fetchall():\n",
        "  print(row)\n",
        "\n",
        "conn.commit()\n",
        "conn.close()"
      ],
      "metadata": {
        "id": "eaBOOB0hKOgU",
        "colab": {
          "base_uri": "https://localhost:8080/"
        },
        "outputId": "f7c17f18-4675-4330-b172-826777e5dfe2"
      },
      "execution_count": null,
      "outputs": [
        {
          "output_type": "stream",
          "name": "stdout",
          "text": [
            "('Q1', 9)\n",
            "('Q2', 3)\n"
          ]
        }
      ]
    },
    {
      "cell_type": "markdown",
      "source": [
        "## **Module 4**\n",
        "\n",
        "From the *added* column of the `\"kmooc_learningpath_courses\"` table, for each learning path in the table, extract the number of days passed from the date when the first course was added to the date when the last course was added. Show it as the `\"num_days_passed\"` column.\n",
        "\n",
        "The output table should contain the following columns:\n",
        "- *learningpath_id* column\n",
        "- *num_days_passed* column with the number of days between the first and last courses\n",
        "\n",
        "Use JulianDay() to calculate the number of days between two dates. You can use Cast() to print integer (not float) values for the second column as below. Sort the output table in the descending order of the *num_days_passed* column.\n",
        "\n",
        "**Format**:\n",
        ">```\n",
        "(1, 30)\n",
        "(2, 25)\n",
        "...\n",
        "```\n",
        "\n",
        "Print the result using the code cell below."
      ],
      "metadata": {
        "id": "0iVBCh9oJPfH"
      }
    },
    {
      "cell_type": "code",
      "source": [
        "import sqlite3\n",
        "\n",
        "conn = sqlite3.connect('kmooc.sqlite3')\n",
        "cur = conn.cursor()\n",
        "\n",
        "# Enter your solution here\n",
        "cur.execute(\"\"\"\n",
        "SELECT learningpath_id,\n",
        "\tcast(julianday(max(added)) - julianday(min(added)) AS INT) num_days_passed\n",
        "FROM kmooc_learningpath_courses\n",
        "GROUP BY learningpath_id\n",
        "ORDER BY num_days_passed DESC;\n",
        "\"\"\")\n",
        "for row in cur.fetchall():\n",
        "  print(row)\n",
        "\n",
        "conn.commit()\n",
        "conn.close()"
      ],
      "metadata": {
        "id": "0LqfsJcAKol2",
        "colab": {
          "base_uri": "https://localhost:8080/"
        },
        "outputId": "ce7fa877-848b-4b66-c84c-6cf8399880b6"
      },
      "execution_count": null,
      "outputs": [
        {
          "output_type": "stream",
          "name": "stdout",
          "text": [
            "(3, 126)\n",
            "(2, 58)\n",
            "(1, 14)\n"
          ]
        }
      ]
    },
    {
      "cell_type": "markdown",
      "source": [
        "## **Module 5**\n",
        "\n",
        "From the *added* column of the `\"kmooc_learningpath_courses\"` table, for each learning path in the table, extract the number of days passed since the last course was added, as of 2021-09-25 (assuming that today is 2021-09-25). Show it as the `\"num_days_passed\"` column.\n",
        "\n",
        "The output table should contain the following columns:\n",
        "- *learningpath_id* column\n",
        "- *num_days_passed* column with the number of days passed since the last addition\n",
        "\n",
        "Use JulianDay() to calculate the number of days between two dates. You can use Cast() to print integer (not float) values for the second column as below. Sort the output table in the descending order of the *num_days_passed* column.\n",
        "\n",
        "**Format**:\n",
        ">```\n",
        "(1, 230)\n",
        "(2, 125)\n",
        "...\n",
        "```\n",
        "\n",
        "Print the result using the code cell below."
      ],
      "metadata": {
        "id": "dx0Qk95cJUIF"
      }
    },
    {
      "cell_type": "code",
      "source": [
        "import sqlite3\n",
        "\n",
        "conn = sqlite3.connect('kmooc.sqlite3')\n",
        "cur = conn.cursor()\n",
        "\n",
        "# Enter your solution here\n",
        "cur.execute(\"\"\"\n",
        "SELECT DISTINCT learningpath_id,\n",
        "\tcast(julianday(\"2021-09-25\") - julianday(max(added)) AS INT) num_days_passed\n",
        "FROM kmooc_learningpath_courses\n",
        "GROUP BY learningpath_id\n",
        "ORDER BY num_days_passed DESC;\n",
        "\"\"\")\n",
        "for row in cur.fetchall():\n",
        "  print(row)\n",
        "\n",
        "conn.commit()\n",
        "conn.close()"
      ],
      "metadata": {
        "id": "swRw5HblLJk-",
        "colab": {
          "base_uri": "https://localhost:8080/"
        },
        "outputId": "134fe0e8-1b5a-470a-cc41-f183a047362f"
      },
      "execution_count": null,
      "outputs": [
        {
          "output_type": "stream",
          "name": "stdout",
          "text": [
            "(1, 220)\n",
            "(3, 137)\n",
            "(2, 136)\n"
          ]
        }
      ]
    },
    {
      "cell_type": "markdown",
      "source": [
        "## **Module 6**\n",
        "\n",
        "The `\"kmooc_instructor\"` table contains two records. Using the appropriate statement, insert another record with the following data:\n",
        "\n",
        "> `(3, \"Mike\", \"Json\", \"Python Developer\")`\n",
        "\n",
        "Commit the changes and execute the command which will display the contents of the `\"kmooc_instructor\"` table in the ascending order of the *id* column.\n",
        "\n",
        "Note that if the new record is already in the table, no error should occur, and the SQL statement should be just ignored.\n",
        "\n",
        "Display the following columns in the output table:\n",
        "- *id* column from the `\"kmooc_instructor\"` table\n",
        "- *instructo*r - concatenation of the *first_name* and *last_name* columns with a space character (`\"kmooc_instructor\"` table)\n",
        "- *description* column from the `\"kmooc_instructor\"` table\n",
        "\n",
        "**Format**:\n",
        ">```\n",
        "(3, 'Mike Json', 'Python Developer')\n",
        "...\n",
        "```\n",
        "\n",
        "Print the result using the code cell below."
      ],
      "metadata": {
        "id": "cSjEK7ozJVXZ"
      }
    },
    {
      "cell_type": "code",
      "source": [
        "import sqlite3\n",
        "\n",
        "conn = sqlite3.connect('kmooc.sqlite3')\n",
        "cur = conn.cursor()\n",
        "\n",
        "# Enter your solution here\n",
        "cur.execute(\"\"\"\n",
        "REPLACE INTO \"kmooc_instructor\"\n",
        "(\"id\", \"first_name\", \"last_name\", \"description\")\n",
        "VALUES (3, \"Mike\", \"Json\", \"Python Developer\");\n",
        "\"\"\")\n",
        "conn.commit()\n",
        "cur.execute(\"\"\"\n",
        "SELECT id,\n",
        "\tfirst_name || ' ' || last_name \"name\",\n",
        "\tdescription\n",
        "FROM kmooc_instructor\n",
        "ORDER BY id ASC;\n",
        "\"\"\")\n",
        "for row in cur.fetchall():\n",
        "  print(row)\n",
        "\n",
        "conn.commit()\n",
        "conn.close()"
      ],
      "metadata": {
        "id": "3NeSdDt2MijY",
        "colab": {
          "base_uri": "https://localhost:8080/"
        },
        "outputId": "d4faa33a-ef66-4185-c032-86ce85f2795f"
      },
      "execution_count": null,
      "outputs": [
        {
          "output_type": "stream",
          "name": "stdout",
          "text": [
            "(1, 'James Smith', 'Data Scientist')\n",
            "(2, 'Mary Brown', 'Programmer')\n",
            "(3, 'Mike Json', 'Python Developer')\n"
          ]
        }
      ]
    },
    {
      "cell_type": "markdown",
      "source": [
        "## **Module 7**\n",
        "\n",
        "When working with databases, we will often want to use the values of variables in our queries. Let's assume that we want to execute the following query using the *instructor_id* variable passed from a user.\n",
        "\n",
        "> ```\n",
        "cur.execute(\n",
        "    f'SELECT * FROM \"kmooc_instructor\" WHERE \"id\" = {instructor_id}'\n",
        ")\n",
        "\n",
        "A malicious user passed the following value for the *instructor_id* variable:\n",
        "\n",
        "> ```\n",
        "instructor_id = '2; DELETE FROM \"kmooc_instructor\"'\n",
        "\n",
        "Execute this query. Then, in response, display the number of records in the `\"kmooc_instructor\"` table. This attack is called **SQL injection** and should be prevented. This module is not required to fill in SQL statements. Just experience this type of attacks.\n",
        "\n",
        "**Expected result**:\n",
        ">```\n",
        "0\n",
        "```\n",
        "\n",
        "Print the result using the code cell below."
      ],
      "metadata": {
        "id": "1e_8LM9Q1Zyv"
      }
    },
    {
      "cell_type": "code",
      "source": [
        "import sqlite3\n",
        "\n",
        "conn = sqlite3.connect('kmooc.sqlite3')\n",
        "cur = conn.cursor()\n",
        "\n",
        "instructor_id = '2; DELETE FROM \"kmooc_instructor\"'\n",
        "\n",
        "cur.executescript(\n",
        "    f'SELECT * FROM \"kmooc_instructor\" WHERE \"id\" = {instructor_id}'\n",
        ")\n",
        "conn.commit()\n",
        "\n",
        "cur.execute('SELECT COUNT(*) FROM \"kmooc_instructor\"')\n",
        "num_rows = cur.fetchall()[0][0]\n",
        "print(num_rows)\n",
        "\n",
        "conn.close()"
      ],
      "metadata": {
        "colab": {
          "base_uri": "https://localhost:8080/"
        },
        "id": "adDA3LeV1YC9",
        "outputId": "ebe2b882-ac4b-4932-a3b7-c1704aa35de7"
      },
      "execution_count": null,
      "outputs": [
        {
          "output_type": "stream",
          "name": "stdout",
          "text": [
            "0\n"
          ]
        }
      ]
    },
    {
      "cell_type": "markdown",
      "source": [
        "## **Module 8**\n",
        "\n",
        "Let's try to protect SQL injection. Let's change the above query in Module 7 such that it is safe to SQL injection. Only the `cur.executescript(...)` command should be replaced with `cur.execute(...)`. You must not add any code for checking the variable.\n",
        "\n",
        "Hint: Use the named placeholder (named style) and see https://docs.python.org/3/library/sqlite3.html for details.\n",
        "\n",
        "After excuting the query, the number of records should stay as 2.\n",
        "\n",
        "Also, when the *instructor_id* variable has a legal value, the SQL query should return normal results.\n",
        "\n",
        "**Expected result**:\n",
        ">```\n",
        "2\n",
        "(2, 'Mary', 'Brown', 'Programmer')\n",
        "```\n",
        "\n",
        "Print the result using the code cell below."
      ],
      "metadata": {
        "id": "DG0rWzWQD4qB"
      }
    },
    {
      "cell_type": "code",
      "source": [
        "import sqlite3\n",
        "\n",
        "conn = sqlite3.connect('kmooc.sqlite3')\n",
        "cur = conn.cursor()\n",
        "\n",
        "with open('/content/drive/MyDrive/create_database_proj2.sql', 'r', encoding='utf-8') as file:\n",
        "    sql = file.read()\n",
        "\n",
        "cur.executescript(sql)\n",
        "\n",
        "instructor_id = '2; DELETE FROM \"kmooc_instructor\"'\n",
        "\n",
        "# Fill in the inside of the command for your solution\n",
        "# cur.execute(\n",
        "# Compose a SQL statement to retrieve the instructor information with a variable\n",
        "# ...\n",
        "# )\n",
        "cur.execute(\"\"\"\n",
        "SELECT * FROM \"kmooc_instructor\" WHERE \"id\" = :instructor_id\n",
        "\"\"\", {\"instructor_id\": instructor_id})\n",
        "conn.commit()\n",
        "\n",
        "cur.execute('SELECT COUNT(*) FROM \"kmooc_instructor\"')\n",
        "num_rows = cur.fetchall()[0][0]\n",
        "print(num_rows)\n",
        "\n",
        "instructor_id = 2\n",
        "\n",
        "# Repeat the above cur.execute(...) here\n",
        "cur.execute(\"\"\"\n",
        "SELECT * FROM \"kmooc_instructor\" WHERE \"id\" = :instructor_id\n",
        "\"\"\", {\"instructor_id\": instructor_id})\n",
        "\n",
        "# Here, the correct result should be returned\n",
        "for row in cur.fetchall():\n",
        "    print(row)\n",
        "\n",
        "conn.close()"
      ],
      "metadata": {
        "colab": {
          "base_uri": "https://localhost:8080/"
        },
        "id": "jf3VgKFfD5Oe",
        "outputId": "a418d5e9-efb9-4a64-c2ec-0fe97ec64cc1"
      },
      "execution_count": null,
      "outputs": [
        {
          "output_type": "stream",
          "name": "stdout",
          "text": [
            "2\n",
            "(2, 'Mary', 'Brown', 'Programmer')\n"
          ]
        }
      ]
    }
  ]
}