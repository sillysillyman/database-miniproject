{
  "nbformat": 4,
  "nbformat_minor": 0,
  "metadata": {
    "colab": {
      "provenance": []
    },
    "kernelspec": {
      "name": "python3",
      "display_name": "Python 3"
    },
    "language_info": {
      "name": "python"
    }
  },
  "cells": [
    {
      "cell_type": "markdown",
      "source": [
        "**NOTE: Distributing or uploading this course material to a public repository (e.g., GitHub) is strictly prohibited.**"
      ],
      "metadata": {
        "id": "TLf3PCpOvhus"
      }
    },
    {
      "cell_type": "markdown",
      "source": [
        "## **Database Creation**\n",
        "\n",
        "We want to implement an OpenCourseWare service using SQLite3. For this purpose, we will create the following four tables:\n",
        "\n",
        "-  `\"kmooc_instructor\"` - instructor information\n",
        "-  `\"kmooc_course\"` - course information\n",
        "-  `\"kmooc_learningpath\"` - learning path (or curriculum) information\n",
        "-  `\"kmooc_learningpath_courses\"` - mapping between courses to learning paths\n",
        "\n",
        "The given 'create_database_proj1.sql' file contains the definition of the schema and a sample set of the tuples. You can download it from [here](https://drive.google.com/file/d/1IOSBZ2a2WWvgkTKfR5lcel0PIC_uo0wq/view?usp=share_link).\n",
        "\n",
        "Please see the file for detailed schema.\n",
        "\n",
        "We will implement several core modules of the service."
      ],
      "metadata": {
        "id": "o_zJTcIMOWh5"
      }
    },
    {
      "cell_type": "code",
      "source": [
        "from google.colab import drive\n",
        "drive.mount('/content/drive')"
      ],
      "metadata": {
        "colab": {
          "base_uri": "https://localhost:8080/"
        },
        "id": "OpcaGkkQO-EA",
        "outputId": "e340c5b6-02da-4371-aad0-f2dac1bc3c7f"
      },
      "execution_count": null,
      "outputs": [
        {
          "output_type": "stream",
          "name": "stdout",
          "text": [
            "Drive already mounted at /content/drive; to attempt to forcibly remount, call drive.mount(\"/content/drive\", force_remount=True).\n"
          ]
        }
      ]
    },
    {
      "cell_type": "code",
      "source": [
        "import sqlite3\n",
        "\n",
        "conn = sqlite3.connect('kmooc.sqlite3')\n",
        "cur = conn.cursor()\n",
        "\n",
        "# Enter your solution here\n",
        "# Execute the SQL statements in 'create_database_proj1.sql'.\n",
        "# First, upload the file on your Google Drive folder.\n",
        "# If you placed this file in the 'MyDrive' folder, its path is '/content/drive/MyDrive/create_database_proj1.sql'.\n",
        "\n",
        "f = open(\"/content/drive/MyDrive/create_database_proj1.sql\", 'r')\n",
        "sql_file = f.read()\n",
        "f.close()\n",
        "sql_command = sql_file.split(';')\n",
        "for command in sql_command:\n",
        "  cur.execute(command)\n",
        "\n",
        "conn.commit()\n",
        "conn.close()"
      ],
      "metadata": {
        "id": "tMBPg0yaAhPm"
      },
      "execution_count": null,
      "outputs": []
    },
    {
      "cell_type": "markdown",
      "source": [
        "## **Module 1**\n",
        "\n",
        "We need to extract the top 10 highest rated courses from this database.\n",
        "\n",
        "Create a query that will join the tables `\"kmooc_course\"` and `\"kmooc_instructor\"` (LEFT JOIN) and extract the top 10 courses (*rating* column of the `\"kmooc_course\"` table).\n",
        "\n",
        "Display the following columns in the output table:\n",
        "\n",
        "- *title* (`\"kmooc_course\"` table)\n",
        "- *rating* (`\"kmooc_course\"` table)\n",
        "- *instructor* - concatenation of the *first_name* and *last_name* columns with a space character (`\"kmooc_instructor\"` table)\n",
        "\n",
        "Sort the output table in the descending order of the *rating* column.\n",
        "\n",
        "Note that the third column is made by concatenating the *first_name* and *last_name* columns.\n",
        "\n",
        "**Format**:\n",
        ">```\n",
        "('course_title', course_rating, 'first_name last_name')\n",
        "...\n",
        "```\n",
        "\n",
        "Print the result using the code cell below."
      ],
      "metadata": {
        "id": "UboZNCSbIJn9"
      }
    },
    {
      "cell_type": "code",
      "source": [
        "import sqlite3\n",
        "\n",
        "conn = sqlite3.connect('kmooc.sqlite3')\n",
        "cur = conn.cursor()\n",
        "\n",
        "# Enter your solution here\n",
        "cur.execute(\"\"\"\n",
        "  SELECT c.title \"course_title\",\n",
        "    c.rating \"course_rating\",\n",
        "    i.first_name || ' ' || i.last_name \"name\"\n",
        "  FROM kmooc_course AS c\n",
        "  LEFT JOIN kmooc_instructor AS i\n",
        "  ON c.instructor_id = i.id\n",
        "  ORDER BY course_rating DESC\n",
        "  LIMIT 10;\n",
        "\"\"\")\n",
        "for row in cur.fetchall():\n",
        "  print(row)\n",
        "\n",
        "\n",
        "conn.commit()\n",
        "conn.close()"
      ],
      "metadata": {
        "id": "WUuWRZwxJBEl",
        "colab": {
          "base_uri": "https://localhost:8080/"
        },
        "outputId": "a701c3b3-9fea-46f3-f47f-8f22523465da"
      },
      "execution_count": null,
      "outputs": [
        {
          "output_type": "stream",
          "name": "stdout",
          "text": [
            "('SQL Bootcamp - SQLite Databases - Part IV', 5.0, 'James Smith')\n",
            "('100+ Exercises - Advanced Python Programming', 5.0, 'James Smith')\n",
            "('150+ Exercises - Data Structures in Python - Hands-On', 5.0, 'James Smith')\n",
            "('150+ Exercises - Object Oriented Programming in C++ - OOP', 5.0, 'Mary Brown')\n",
            "('150+ Exercises - Object Oriented Programming in Python - OOP', 4.92, 'James Smith')\n",
            "('Machine Learning Bootcamp in Python Part II - from A to Z', 4.89, 'James Smith')\n",
            "('250+ Exercises - Data Science Bootcamp in Python', 4.89, 'James Smith')\n",
            "('Artificial Intelligence - Computer Vision in Python', 4.87, 'James Smith')\n",
            "('Machine Learning Bootcamp in Python Part III - Exercises', 4.87, 'James Smith')\n",
            "('Machine Learning - Decision Trees and Random Forests - Python', 4.86, 'James Smith')\n"
          ]
        }
      ]
    },
    {
      "cell_type": "markdown",
      "source": [
        "## **Module 2**\n",
        "\n",
        "We need to extract all the names of the learning paths with the names of the courses included in the path and the subcategory of each component course (see below).\n",
        "\n",
        "Display the following columns in the output table:\n",
        "\n",
        "- *title* column from `\"kmooc_learningpath\"` table, aliased as `\"path_title\"`\n",
        "- *title* column from `\"kmooc_course\"` table, aliased as `\"course_title\"`\n",
        "- *subcategory* column from the `\"kmooc_course\"` table\n",
        "\n",
        "Sort the output table in the ascending order of the *path_title* and *course_title* columns. Limit the result to the first 10 records.\n",
        "\n",
        "**Format**:\n",
        ">```\n",
        "('path_title', 'course_title', 'course_subcategory')\n",
        "...\n",
        "```\n",
        "\n",
        "Print the result using the code cell below."
      ],
      "metadata": {
        "id": "Fc-TocDrJFPU"
      }
    },
    {
      "cell_type": "code",
      "source": [
        "import sqlite3\n",
        "\n",
        "conn = sqlite3.connect('kmooc.sqlite3')\n",
        "cur = conn.cursor()\n",
        "\n",
        "# Enter your solution here\n",
        "cur.execute(\"\"\"\n",
        "  SELECT lp.title \"path_title\",\n",
        "    c.title \"course_title\",\n",
        "    c.subcategory\n",
        "  FROM kmooc_course AS c\n",
        "  JOIN kmooc_learningpath as lp\n",
        "  JOIN kmooc_learningpath_courses as lpc\n",
        "  ON c.id == lpc.course_id and lp.id = lpc.learningpath_id\n",
        "  ORDER BY path_title, course_title ASC\n",
        "  LIMIT 10;\n",
        "\"\"\")\n",
        "for row in cur.fetchall():\n",
        "  print(row)\n",
        "\n",
        "conn.commit()\n",
        "conn.close()"
      ],
      "metadata": {
        "id": "lqGtl0QgJtAk",
        "colab": {
          "base_uri": "https://localhost:8080/"
        },
        "outputId": "50c129b3-b14c-4645-8188-a2b4c80f81f9"
      },
      "execution_count": null,
      "outputs": [
        {
          "output_type": "stream",
          "name": "stdout",
          "text": [
            "('Path All-in-One', '100+ Exercises - Advanced Python Programming', 'programming languages')\n",
            "('Path All-in-One', '120+ Exercises in Python - Data Science - NumPy', 'data science')\n",
            "('Path All-in-One', '130+ Exercises in Python - Data Science - Pandas', 'data science')\n",
            "('Path All-in-One', '150+ Exercises - Object Oriented Programming in C++ - OOP', 'programming languages')\n",
            "('Path All-in-One', '150+ Exercises - Object Oriented Programming in Python - OOP', 'programming languages')\n",
            "('Path All-in-One', '150+ Exercises - Programming in C language - from A to Z', 'programming languages')\n",
            "('Path All-in-One', '150+ Exercises - Programming in C++ - from A to Z', 'programming languages')\n",
            "('Path All-in-One', '200+ Exercises - Programming in Python - from A to Z', 'programming languages')\n",
            "('Path All-in-One', '210+ Exercises - Python - Embedded Modules - A to Z', 'programming languages')\n",
            "('Path All-in-One', '250+ Exercises - Data Science Bootcamp in Python', 'programming languages')\n"
          ]
        }
      ]
    },
    {
      "cell_type": "markdown",
      "source": [
        "## **Module 3**\n",
        "\n",
        "We need to extract all the names of the learning paths with the number of courses in each path (see below).\n",
        "\n",
        "Display the following columns in the output table:\n",
        "\n",
        "- *title* column from `\"esmartdata_learningpath\"` table, aliased as `\"path_title\"`\n",
        "- *num_courses* - the number of courses for a given path\n",
        "\n",
        "Sort the output table in the descending order of the *num_courses* column.\n",
        "\n",
        "**Format**:\n",
        ">```\n",
        "('path_title', num_courses)\n",
        "...\n",
        "```\n",
        "\n",
        "Print the result using the code cell below."
      ],
      "metadata": {
        "id": "x8KIoiwjJM_f"
      }
    },
    {
      "cell_type": "code",
      "source": [
        "import sqlite3\n",
        "\n",
        "conn = sqlite3.connect('kmooc.sqlite3')\n",
        "cur = conn.cursor()\n",
        "\n",
        "# Enter your solution here\n",
        "cur.execute(\"\"\"\n",
        "  SELECT lp.title \"path_title\",\n",
        "    count(lp.title) \"num_courses\"\n",
        "  FROM kmooc_learningpath AS lp\n",
        "  JOIN kmooc_learningpath_courses AS lpc\n",
        "  ON lp.id = lpc.learningpath_id\n",
        "  GROUP BY lp.title\n",
        "  ORDER BY \"num_courses\" DESC;\n",
        "\"\"\")\n",
        "for row in cur.fetchall():\n",
        "  print(row)\n",
        "\n",
        "conn.commit()\n",
        "conn.close()"
      ],
      "metadata": {
        "id": "eaBOOB0hKOgU",
        "colab": {
          "base_uri": "https://localhost:8080/"
        },
        "outputId": "686b4f56-2bb9-4d64-b955-759f5de4318b"
      },
      "execution_count": null,
      "outputs": [
        {
          "output_type": "stream",
          "name": "stdout",
          "text": [
            "('Path All-in-One', 30)\n",
            "('Path Data Scientist / Deep Learning Engineer', 21)\n",
            "('Path Data Scientist / Machine Learning Engineer', 19)\n",
            "('Path BI Analyst / Data Analyst', 15)\n",
            "('Path Big Data Analyst', 13)\n",
            "('Path Python Developer', 8)\n",
            "('Path C++ Developer', 3)\n",
            "('Path C Developer', 2)\n"
          ]
        }
      ]
    },
    {
      "cell_type": "markdown",
      "source": [
        "## **Module 4**\n",
        "\n",
        "We need to extract all the names of the learning paths with the names of the courses included in the path and the name of each course's instructor (see below).\n",
        "\n",
        "Display the following columns in the output table:\n",
        "\n",
        "- *title* column from `\"kmooc_learningpath\"` table, aliased as `\"path_title\"`\n",
        "- *title* column from `\"kmooc_course\"` table, aliased as `\"course_title\"`\n",
        "- *instructor* - concatenation of the *first_name* and *last_name* columns with a space character (`\"kmooc_instructor\"` table)\n",
        "\n",
        "Sort the output table in the ascending order of the *path_title* and *course_title* columns. Limit the result to the first 10 records.\n",
        "\n",
        "**Format**:\n",
        ">```\n",
        "('path_title', 'course_title', 'first_name last_name')\n",
        "...\n",
        "```\n",
        "\n",
        "Print the result using the code cell below."
      ],
      "metadata": {
        "id": "0iVBCh9oJPfH"
      }
    },
    {
      "cell_type": "code",
      "source": [
        "import sqlite3\n",
        "\n",
        "conn = sqlite3.connect('kmooc.sqlite3')\n",
        "cur = conn.cursor()\n",
        "\n",
        "# Enter your solution here\n",
        "cur.execute(\"\"\"\n",
        "  SELECT lp.title \"path_title\",\n",
        "    c.title \"course_title\",\n",
        "    i.first_name || ' ' || i.last_name \"name\"\n",
        "  FROM kmooc_course AS c\n",
        "  JOIN kmooc_learningpath AS lp\n",
        "  JOIN kmooc_learningpath_courses AS lpc\n",
        "  ON c.id = lpc.course_id and lp.id = lpc.learningpath_id\n",
        "  JOIN kmooc_instructor AS i\n",
        "  ON c.instructor_id = i.id\n",
        "  ORDER BY path_title, course_title ASC\n",
        "  LIMIT 10;\n",
        "\"\"\")\n",
        "for row in cur.fetchall():\n",
        "  print(row)\n",
        "\n",
        "conn.commit()\n",
        "conn.close()"
      ],
      "metadata": {
        "id": "0LqfsJcAKol2",
        "colab": {
          "base_uri": "https://localhost:8080/"
        },
        "outputId": "fcb07c23-7b17-4393-f853-6b0d34129cb5"
      },
      "execution_count": null,
      "outputs": [
        {
          "output_type": "stream",
          "name": "stdout",
          "text": [
            "('Path All-in-One', '100+ Exercises - Advanced Python Programming', 'James Smith')\n",
            "('Path All-in-One', '120+ Exercises in Python - Data Science - NumPy', 'James Smith')\n",
            "('Path All-in-One', '130+ Exercises in Python - Data Science - Pandas', 'James Smith')\n",
            "('Path All-in-One', '150+ Exercises - Object Oriented Programming in C++ - OOP', 'Mary Brown')\n",
            "('Path All-in-One', '150+ Exercises - Object Oriented Programming in Python - OOP', 'James Smith')\n",
            "('Path All-in-One', '150+ Exercises - Programming in C language - from A to Z', 'Mary Brown')\n",
            "('Path All-in-One', '150+ Exercises - Programming in C++ - from A to Z', 'Mary Brown')\n",
            "('Path All-in-One', '200+ Exercises - Programming in Python - from A to Z', 'James Smith')\n",
            "('Path All-in-One', '210+ Exercises - Python - Embedded Modules - A to Z', 'James Smith')\n",
            "('Path All-in-One', '250+ Exercises - Data Science Bootcamp in Python', 'James Smith')\n"
          ]
        }
      ]
    },
    {
      "cell_type": "markdown",
      "source": [
        "## **Module 5**\n",
        "\n",
        "We need to extract the number of courses for each instructor in all learning paths.\n",
        "\n",
        "Display the following columns in the output table:\n",
        "\n",
        " - *title* column from `\"kmooc_learningpath\"` table, aliased as `\"path_title\"`\n",
        " - *instructor* - concatenation of the *first_name* and *last_name* columns with a space character (`\"kmooc_instructor\"` table)\n",
        " - *num_courses* - number of courses per instructor in the given learning path\n",
        "\n",
        "Sort the output table in the ascending order of the *path_title* and *instructor* columns.\n",
        "\n",
        "\n",
        "**Format**:\n",
        ">```\n",
        "('path_title', 'first_name last_name', num_courses)\n",
        "...\n",
        "```\n",
        "\n",
        "Print the result using the code cell below."
      ],
      "metadata": {
        "id": "dx0Qk95cJUIF"
      }
    },
    {
      "cell_type": "code",
      "source": [
        "import sqlite3\n",
        "\n",
        "conn = sqlite3.connect('kmooc.sqlite3')\n",
        "cur = conn.cursor()\n",
        "\n",
        "# Enter your solution here\n",
        "cur.execute(\"\"\"\n",
        "  SELECT lp.title \"path_title\",\n",
        "    i.first_name || ' ' || i.last_name \"name\",\n",
        "     count(\"instructor\") \"num_courses\"\n",
        "  FROM kmooc_learningpath AS lp\n",
        "  JOIN kmooc_course AS c\n",
        "  JOIN kmooc_learningpath_courses AS lpc\n",
        "  ON c.id = lpc.course_id and lp.id = lpc.learningpath_id\n",
        "  JOIN kmooc_instructor AS i\n",
        "  ON c.instructor_id = i.id\n",
        "  GROUP BY \"path_title\", \"name\"\n",
        "  ORDER BY \"path_title\", \"name\" ASC;\n",
        "\"\"\")\n",
        "for row in cur.fetchall():\n",
        "  print(row)\n",
        "\n",
        "conn.commit()\n",
        "conn.close()"
      ],
      "metadata": {
        "id": "swRw5HblLJk-",
        "colab": {
          "base_uri": "https://localhost:8080/"
        },
        "outputId": "ca2e5697-5234-40fb-a13c-f988088d212b"
      },
      "execution_count": null,
      "outputs": [
        {
          "output_type": "stream",
          "name": "stdout",
          "text": [
            "('Path All-in-One', 'James Smith', 25)\n",
            "('Path All-in-One', 'Mary Brown', 5)\n",
            "('Path BI Analyst / Data Analyst', 'James Smith', 15)\n",
            "('Path Big Data Analyst', 'James Smith', 13)\n",
            "('Path C Developer', 'Mary Brown', 2)\n",
            "('Path C++ Developer', 'Mary Brown', 3)\n",
            "('Path Data Scientist / Deep Learning Engineer', 'James Smith', 21)\n",
            "('Path Data Scientist / Machine Learning Engineer', 'James Smith', 19)\n",
            "('Path Python Developer', 'James Smith', 8)\n"
          ]
        }
      ]
    },
    {
      "cell_type": "markdown",
      "source": [
        "## **Module 6**\n",
        "\n",
        "We need to extract the number of courses at the category, sub-category, and instructor levels (see below).\n",
        "\n",
        "Display the following columns in the output table:\n",
        "\n",
        " - *category* column from the `\"kmooc_course\"` table\n",
        " - *subcategory* column from the `\"kmooc_course\"` table\n",
        " - *instructo*r - concatenation of the *first_name* and *last_name* columns with a space character (`\"kmooc_instructor\"` table)\n",
        " - *num_courses* - number of courses per *category*, *subcategory* and *instructor*\n",
        "\n",
        "Sort the output table in the descending order of the *num_courses* column.\n",
        "\n",
        "**Format**:\n",
        ">```\n",
        "('category', 'subcategory', 'first_name last_name', num_courses)\n",
        "...\n",
        "```\n",
        "\n",
        "Print the result using the code cell below."
      ],
      "metadata": {
        "id": "cSjEK7ozJVXZ"
      }
    },
    {
      "cell_type": "code",
      "source": [
        "import sqlite3\n",
        "\n",
        "conn = sqlite3.connect('kmooc.sqlite3')\n",
        "cur = conn.cursor()\n",
        "\n",
        "# Enter your solution here\n",
        "cur.execute(\"\"\"\n",
        "  SELECT c.category,\n",
        "    c.subcategory,\n",
        "    i.first_name || ' ' || last_name \"name\",\n",
        "    count() \"num_courses\"\n",
        "  FROM kmooc_course AS c\n",
        "  JOIN kmooc_instructor AS i\n",
        "  ON c.instructor_id = i.id\n",
        "  GROUP BY c.category, c.subcategory, \"name\"\n",
        "  ORDER BY \"num_courses\" DESC;\n",
        "\"\"\")\n",
        "for row in cur.fetchall():\n",
        "  print(row)\n",
        "\n",
        "conn.commit()\n",
        "conn.close()"
      ],
      "metadata": {
        "id": "3NeSdDt2MijY",
        "colab": {
          "base_uri": "https://localhost:8080/"
        },
        "outputId": "8ca0e2b9-ddef-47f2-efb3-f831c199ac9d"
      },
      "execution_count": null,
      "outputs": [
        {
          "output_type": "stream",
          "name": "stdout",
          "text": [
            "('development', 'programming languages', 'James Smith', 18)\n",
            "('development', 'data science', 'James Smith', 14)\n",
            "('development', 'database design & development', 'James Smith', 7)\n",
            "('development', 'programming languages', 'Mary Brown', 5)\n",
            "('development', 'web development', 'James Smith', 1)\n"
          ]
        }
      ]
    }
  ]
}